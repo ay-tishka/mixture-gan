{
 "cells": [
  {
   "attachments": {},
   "cell_type": "markdown",
   "metadata": {},
   "source": [
    "Mixture GAN (CIFAR10)"
   ]
  },
  {
   "cell_type": "code",
   "execution_count": 1,
   "metadata": {},
   "outputs": [],
   "source": [
    "device = \"cuda:0\"\n",
    "\n",
    "time_sampler = \"mixture\" # vanilla, mixture\n",
    "inverse_logs = False\n",
    "discriminator_iters = 1\n",
    "num_steps = 10\n",
    "\n",
    "name = f\"mixture-gan-normal-cifar-{time_sampler}-{inverse_logs}-{discriminator_iters}\""
   ]
  },
  {
   "attachments": {},
   "cell_type": "markdown",
   "metadata": {},
   "source": [
    "Set environment"
   ]
  },
  {
   "cell_type": "code",
   "execution_count": 2,
   "metadata": {},
   "outputs": [],
   "source": [
    "import numpy as np\n",
    "import torch as th\n",
    "import random\n",
    "\n",
    "seed = 42\n",
    "\n",
    "th.manual_seed(42)\n",
    "if th.cuda.is_available():\n",
    "    th.cuda.manual_seed(seed)\n",
    "\n",
    "np.random.seed(42)\n",
    "random.seed(42)"
   ]
  },
  {
   "attachments": {},
   "cell_type": "markdown",
   "metadata": {},
   "source": [
    "Create datalooper"
   ]
  },
  {
   "cell_type": "code",
   "execution_count": 3,
   "metadata": {},
   "outputs": [],
   "source": [
    "from torchvision.datasets import MNIST\n",
    "from torchvision import transforms\n",
    "from torch.utils.data import DataLoader\n",
    "\n",
    "def infiniteloop(dataloader):\n",
    "    while True:\n",
    "        for x, y in iter(dataloader):\n",
    "            yield x\n",
    "\n",
    "transform = transforms.Compose([\n",
    "    transforms.ToTensor(), \n",
    "    transforms.Normalize((0.5,), (0.5,))\n",
    "])\n",
    "\n",
    "train_mnist_dataset = MNIST(root=\"data\", train=True, download=True, transform=transform)\n",
    "train_mnist_loader = DataLoader(train_mnist_dataset, batch_size=256, shuffle=True, num_workers=8, drop_last=True, pin_memory=True)\n",
    "train_mnist_looper = infiniteloop(train_mnist_loader)"
   ]
  },
  {
   "attachments": {},
   "cell_type": "markdown",
   "metadata": {},
   "source": [
    "Define models"
   ]
  },
  {
   "cell_type": "code",
   "execution_count": 4,
   "metadata": {},
   "outputs": [],
   "source": [
    "import torch.nn as nn\n",
    "import torch as th\n",
    "\n",
    "class Generator(nn.Module):\n",
    "    def __init__(self, latent_dim=128, hidden_dim=64):\n",
    "        super().__init__()\n",
    "\n",
    "        self.latent_dim = latent_dim\n",
    "\n",
    "        self.proj = nn.Sequential(\n",
    "            nn.Linear(self.latent_dim, hidden_dim * 4 * 7 * 7),\n",
    "            nn.ReLU()\n",
    "        )\n",
    "\n",
    "        self.model = nn.Sequential(\n",
    "            nn.ConvTranspose2d(hidden_dim * 4, hidden_dim * 2, *(3, 2, 1, 1)),\n",
    "            nn.BatchNorm2d(hidden_dim * 2),\n",
    "            nn.ReLU(),\n",
    "\n",
    "            nn.Conv2d(hidden_dim * 2, hidden_dim * 2, *(3, 1, 1)),\n",
    "            nn.BatchNorm2d(hidden_dim * 2),\n",
    "            nn.ReLU(),\n",
    "\n",
    "            nn.ConvTranspose2d(hidden_dim * 2, hidden_dim, *(3, 2, 1, 1)),\n",
    "            nn.BatchNorm2d(hidden_dim),\n",
    "            nn.ReLU(),\n",
    "\n",
    "            nn.Conv2d(hidden_dim, 1, *(3, 1, 1))\n",
    "        )\n",
    "\n",
    "    def forward(self, z):\n",
    "        inp = self.proj(z).reshape(z.shape[0], -1, 7, 7)\n",
    "        return th.tanh(self.model(inp))\n",
    "    \n",
    "    def sample(self, k, device):\n",
    "        z = th.randn(k, self.latent_dim, device=device)\n",
    "        return self.forward(z)\n",
    "\n",
    "class Discriminator(nn.Module):\n",
    "    def __init__(self, num_steps, hidden_dim=32):\n",
    "        super().__init__()\n",
    "\n",
    "        self.model = nn.Sequential(\n",
    "            nn.Conv2d(2, hidden_dim, *(3, 2, 1)),\n",
    "            nn.LeakyReLU(),\n",
    "\n",
    "            nn.Conv2d(hidden_dim, hidden_dim, *(3, 1, 1)),\n",
    "            nn.LeakyReLU(),\n",
    "\n",
    "            nn.Conv2d(hidden_dim, hidden_dim * 2, *(3, 2, 1)),\n",
    "            nn.LeakyReLU(),\n",
    "\n",
    "            nn.Conv2d(hidden_dim * 2, hidden_dim * 2, *(3, 1, 1)),\n",
    "            nn.LeakyReLU(),\n",
    "            \n",
    "            nn.Flatten(),\n",
    "            nn.Linear(hidden_dim * 2 * 7 * 7, 1)\n",
    "        )\n",
    "\n",
    "        self.num_steps = num_steps\n",
    "        self.time_embedding = nn.Embedding(self.num_steps, 28 * 28)\n",
    "    \n",
    "    def forward(self, x, t):\n",
    "        time_embed = self.time_embedding(t).reshape(-1, 1, 28, 28)\n",
    "        inp = th.concat([x, time_embed], dim=1)\n",
    "        \n",
    "        return th.sigmoid((t + 1) / self.num_steps * self.model(inp))"
   ]
  },
  {
   "cell_type": "code",
   "execution_count": 5,
   "metadata": {},
   "outputs": [
    {
     "name": "stdout",
     "output_type": "stream",
     "text": [
      "Generator params: 2135809\n",
      "Discriminator params: 76257\n"
     ]
    }
   ],
   "source": [
    "generator = Generator().to(device)\n",
    "discriminator = Discriminator(num_steps=num_steps).to(device)\n",
    "\n",
    "print(\"Generator params:\", np.sum([np.prod(p.shape) for p in generator.parameters()]))\n",
    "print(\"Discriminator params:\", np.sum([np.prod(p.shape) for p in discriminator.parameters()]))"
   ]
  },
  {
   "cell_type": "code",
   "execution_count": 6,
   "metadata": {},
   "outputs": [],
   "source": [
    "def sample_time(k, num_steps):\n",
    "    if time_sampler == \"vanilla\":\n",
    "        return th.ones(k, device=device, dtype=th.int32) * (num_steps - 1)\n",
    "    elif time_sampler == \"mixture\":\n",
    "        return th.randint(low=0, high=num_steps, size=(k,), device=device)\n",
    "\n",
    "    raise ValueError(\"No such time sampler\")"
   ]
  },
  {
   "attachments": {},
   "cell_type": "markdown",
   "metadata": {},
   "source": [
    "Training"
   ]
  },
  {
   "cell_type": "code",
   "execution_count": 7,
   "metadata": {},
   "outputs": [
    {
     "name": "stderr",
     "output_type": "stream",
     "text": [
      "\u001b[34m\u001b[1mwandb\u001b[0m: Using wandb-core as the SDK backend.  Please refer to https://wandb.me/wandb-core for more information.\n",
      "\u001b[34m\u001b[1mwandb\u001b[0m: Currently logged in as: \u001b[33mtixmav\u001b[0m to \u001b[32mhttps://api.wandb.ai\u001b[0m. Use \u001b[1m`wandb login --relogin`\u001b[0m to force relogin\n"
     ]
    },
    {
     "data": {
      "text/html": [
       "Tracking run with wandb version 0.19.8"
      ],
      "text/plain": [
       "<IPython.core.display.HTML object>"
      ]
     },
     "metadata": {},
     "output_type": "display_data"
    },
    {
     "data": {
      "text/html": [
       "Run data is saved locally in <code>/data/mavrinti/mixture-gan/wandb/run-20250514_094143-atrnbkxa</code>"
      ],
      "text/plain": [
       "<IPython.core.display.HTML object>"
      ]
     },
     "metadata": {},
     "output_type": "display_data"
    },
    {
     "data": {
      "text/html": [
       "Syncing run <strong><a href='https://wandb.ai/tixmav/gans/runs/atrnbkxa' target=\"_blank\">mixture-gan-normal-cifar-mixture-False-1</a></strong> to <a href='https://wandb.ai/tixmav/gans' target=\"_blank\">Weights & Biases</a> (<a href='https://wandb.me/developer-guide' target=\"_blank\">docs</a>)<br>"
      ],
      "text/plain": [
       "<IPython.core.display.HTML object>"
      ]
     },
     "metadata": {},
     "output_type": "display_data"
    },
    {
     "data": {
      "text/html": [
       " View project at <a href='https://wandb.ai/tixmav/gans' target=\"_blank\">https://wandb.ai/tixmav/gans</a>"
      ],
      "text/plain": [
       "<IPython.core.display.HTML object>"
      ]
     },
     "metadata": {},
     "output_type": "display_data"
    },
    {
     "data": {
      "text/html": [
       " View run at <a href='https://wandb.ai/tixmav/gans/runs/atrnbkxa' target=\"_blank\">https://wandb.ai/tixmav/gans/runs/atrnbkxa</a>"
      ],
      "text/plain": [
       "<IPython.core.display.HTML object>"
      ]
     },
     "metadata": {},
     "output_type": "display_data"
    }
   ],
   "source": [
    "import wandb\n",
    "\n",
    "run = wandb.init(project=\"gans\", name=name)\n",
    "\n",
    "run.config.device = device\n",
    "run.config.time_sampler = time_sampler\n",
    "run.config.inverse_logs = inverse_logs\n",
    "run.config.discriminator_iters = discriminator_iters\n",
    "run.config.num_steps = num_steps"
   ]
  },
  {
   "cell_type": "code",
   "execution_count": 8,
   "metadata": {},
   "outputs": [],
   "source": [
    "generator_opt = th.optim.AdamW(generator.parameters(), lr=1e-4, betas=(0.5, 0.999))\n",
    "discriminator_opt = th.optim.AdamW(discriminator.parameters(), lr=1e-4, betas=(0.5, 0.999))"
   ]
  },
  {
   "cell_type": "code",
   "execution_count": 9,
   "metadata": {},
   "outputs": [],
   "source": [
    "max_steps = 50000 + 1"
   ]
  },
  {
   "cell_type": "code",
   "execution_count": 10,
   "metadata": {},
   "outputs": [
    {
     "name": "stdout",
     "output_type": "stream",
     "text": [
      "Step 50000\n"
     ]
    },
    {
     "data": {
      "image/png": "[encoded data removed]",
      "text/plain": [
       "<Figure size 1000x200 with 10 Axes>"
      ]
     },
     "metadata": {},
     "output_type": "display_data"
    },
    {
     "data": {
      "image/png": "[encoded data removed]",
      "text/plain": [
       "<Figure size 1000x200 with 10 Axes>"
      ]
     },
     "metadata": {},
     "output_type": "display_data"
    }
   ],
   "source": [
    "from IPython.display import clear_output\n",
    "import matplotlib.pyplot as plt\n",
    "\n",
    "import torch.nn.functional as F\n",
    "\n",
    "def plot_images(batch_x, title):\n",
    "    fig, axes = plt.subplots(1, 10, figsize=(10, 2))\n",
    "    if title is not None:\n",
    "        fig.suptitle(title)\n",
    "    for i in range(10):\n",
    "        axes[i].imshow(batch_x[i].squeeze(), cmap=\"gray\")\n",
    "        axes[i].set_xticks([])\n",
    "        axes[i].set_yticks([])\n",
    "    fig.tight_layout(pad=0.1)\n",
    "    plt.show()\n",
    "\n",
    "step_stat = {\n",
    "    \"generator loss\": [],\n",
    "    \"discriminator loss\": []\n",
    "}\n",
    "\n",
    "for step in range(1, max_steps + 1):\n",
    "    # discriminator optimization\n",
    "    discriminator.train(True); generator.eval()\n",
    "\n",
    "    for _ in range(discriminator_iters):\n",
    "        x_true = next(train_mnist_looper).to(device)\n",
    "        t = sample_time(x_true.shape[0], num_steps=num_steps)\n",
    "        t_ = ((t + 1.) / num_steps).reshape(-1, 1, 1, 1)\n",
    "\n",
    "        x_fake = generator.sample(x_true.shape[0], device)\n",
    "\n",
    "        normal = th.randn_like(x_true)\n",
    "\n",
    "        true_mixture = x_true * t_ + normal * (1 - t_)\n",
    "        fake_mixture = x_fake * t_ + normal * (1 - t_)\n",
    "\n",
    "        true_disc = discriminator(t=t, x=true_mixture)\n",
    "        fake_disc = discriminator(t=t, x=fake_mixture)\n",
    "\n",
    "        loss = F.binary_cross_entropy(fake_disc, th.zeros_like(fake_disc)) + F.binary_cross_entropy(true_disc, th.ones_like(true_disc))\n",
    "        \n",
    "        step_stat[\"discriminator loss\"].append(loss.item())\n",
    "        discriminator_opt.zero_grad(); loss.backward(); discriminator_opt.step()\n",
    "\n",
    "    # generator optimization\n",
    "    discriminator.eval(); generator.train(True)\n",
    "    \n",
    "    x_fake = generator.sample(x_true.shape[0], device)\n",
    "\n",
    "    normal = th.randn_like(x_true)\n",
    "\n",
    "    true_mixture = x_true * t_ + normal * (1 - t_)\n",
    "    fake_mixture = x_fake * t_ + normal * (1 - t_)\n",
    "\n",
    "    true_disc = discriminator(t=t, x=true_mixture)\n",
    "    fake_disc = discriminator(t=t, x=fake_mixture)\n",
    "\n",
    "    if inverse_logs:\n",
    "        loss = F.binary_cross_entropy(fake_disc, th.ones_like(fake_disc)) + F.binary_cross_entropy(true_disc, th.zeros_like(true_disc))\n",
    "    else:\n",
    "        loss = -F.binary_cross_entropy(fake_disc, th.zeros_like(fake_disc)) - F.binary_cross_entropy(true_disc, th.ones_like(true_disc))\n",
    "\n",
    "    step_stat[\"generator loss\"] = loss.item()\n",
    "    generator_opt.zero_grad(); loss.backward(); generator_opt.step()\n",
    "\n",
    "    # Plots\n",
    "    discriminator.eval(); generator.eval()\n",
    "        \n",
    "    if step % 50 == 0:\n",
    "        step_stat[\"generator loss\"] = np.mean(step_stat[\"generator loss\"])\n",
    "        step_stat[\"discriminator loss\"] = np.mean(step_stat[\"discriminator loss\"])\n",
    "        step_stat[\"step\"] = step\n",
    "\n",
    "        run.log(step_stat)\n",
    "\n",
    "        step_stat = {\n",
    "            \"generator loss\": [],\n",
    "            \"discriminator loss\": []\n",
    "        }\n",
    "\n",
    "    if step % 200 == 0:\n",
    "        clear_output(wait=True)\n",
    "        print(\"Step\", step)\n",
    "\n",
    "        plot_images(x_true[:10].to(\"cpu\"), \"Dataset samples\")\n",
    "        plot_images(x_fake[:10].detach().cpu(), \"Generated samples\")"
   ]
  },
  {
   "attachments": {},
   "cell_type": "markdown",
   "metadata": {},
   "source": [
    "---"
   ]
  }
 ],
 "metadata": {
  "kernelspec": {
   "display_name": "Python 3",
   "language": "python",
   "name": "python3"
  },
  "language_info": {
   "codemirror_mode": {
    "name": "ipython",
    "version": 3
   },
   "file_extension": ".py",
   "mimetype": "text/x-python",
   "name": "python",
   "nbconvert_exporter": "python",
   "pygments_lexer": "ipython3",
   "version": "3.10.12"
  },
  "orig_nbformat": 4
 },
 "nbformat": 4,
 "nbformat_minor": 2
}
